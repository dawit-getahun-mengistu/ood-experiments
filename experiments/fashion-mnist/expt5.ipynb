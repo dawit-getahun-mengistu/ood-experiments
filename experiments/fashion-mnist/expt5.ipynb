{
 "cells": [
  {
   "cell_type": "code",
   "execution_count": 1,
   "metadata": {},
   "outputs": [],
   "source": [
    "import os\n",
    "\n",
    "\n",
    "os.chdir('../../experiments')\n",
    "\n",
    "# print(\"Current working directory:\", os.getcwd())"
   ]
  },
  {
   "cell_type": "code",
   "execution_count": 2,
   "metadata": {},
   "outputs": [
    {
     "data": {
      "text/plain": [
       "device(type='cuda')"
      ]
     },
     "execution_count": 2,
     "metadata": {},
     "output_type": "execute_result"
    }
   ],
   "source": [
    "import torch\n",
    "import torch.nn as nn\n",
    "import torch.optim as optim\n",
    "from torchvision import datasets, transforms, utils\n",
    "from torch.utils.data import DataLoader\n",
    "import numpy as np\n",
    "import matplotlib.pyplot as plt\n",
    "import torchvision.transforms.functional as F\n",
    "import random\n",
    "\n",
    "\n",
    "# Set device\n",
    "device = torch.device(\"cuda\" if torch.cuda.is_available() else \"cpu\")\n",
    "device"
   ]
  },
  {
   "cell_type": "code",
   "execution_count": 3,
   "metadata": {},
   "outputs": [
    {
     "data": {
      "text/plain": [
       "['CustomColoredFashionMNIST', 'FashionMNIST', 'MNIST']"
      ]
     },
     "execution_count": 3,
     "metadata": {},
     "output_type": "execute_result"
    }
   ],
   "source": [
    "\n",
    "directory = \"../data\"\n",
    "files = os.listdir(directory)\n",
    "files"
   ]
  },
  {
   "cell_type": "code",
   "execution_count": 4,
   "metadata": {},
   "outputs": [],
   "source": [
    "grey_transform = transforms.Compose([\n",
    "    # Convert grayscale to 3-channel RGB\n",
    "    transforms.Grayscale(num_output_channels=3),\n",
    "    transforms.ToTensor(),\n",
    "    transforms.Normalize((0.5, 0.5, 0.5), (0.5, 0.5, 0.5)\n",
    "                         )  # Normalize for 3 channels\n",
    "\n",
    "])"
   ]
  },
  {
   "cell_type": "code",
   "execution_count": 5,
   "metadata": {},
   "outputs": [],
   "source": [
    "train_batch_size = 64\n",
    "test_batch_size = 128"
   ]
  },
  {
   "cell_type": "code",
   "execution_count": 6,
   "metadata": {},
   "outputs": [],
   "source": [
    "grey_train_dataset = datasets.FashionMNIST(\n",
    "    directory, train=True, download=True, transform=grey_transform)\n",
    "\n",
    "grey_test_dataset = datasets.FashionMNIST(\n",
    "    directory, train=False, transform=grey_transform)\n",
    "\n",
    "grey_train_loader = DataLoader(\n",
    "    grey_train_dataset, batch_size=train_batch_size, shuffle=True)\n",
    "grey_test_loader = DataLoader(\n",
    "    grey_test_dataset, batch_size=test_batch_size, shuffle=False)"
   ]
  },
  {
   "cell_type": "code",
   "execution_count": 7,
   "metadata": {},
   "outputs": [
    {
     "name": "stdout",
     "output_type": "stream",
     "text": [
      "Sample image shape: torch.Size([3, 28, 28]), Label: 9\n"
     ]
    }
   ],
   "source": [
    "sample_image, sample_label = grey_train_dataset[0]\n",
    "print(f\"Sample image shape: {sample_image.shape}, Label: {sample_label}\")"
   ]
  },
  {
   "cell_type": "code",
   "execution_count": 8,
   "metadata": {},
   "outputs": [],
   "source": [
    "\n",
    "grey_transform = transforms.Compose([\n",
    "    transforms.Grayscale(num_output_channels=3),  # Ensure 3 channels for input\n",
    "    transforms.ToTensor(),\n",
    "    transforms.Normalize((0.5, 0.5, 0.5), (0.5, 0.5, 0.5)\n",
    "                         )  # Normalize for 3 channels\n",
    "])\n",
    "\n",
    "\n",
    "class_colors = [\n",
    "    (255, 0, 0),  # Red for class 0\n",
    "    (0, 255, 0),  # Green for class 1\n",
    "    (0, 0, 255),  # Blue for class 2\n",
    "    (255, 255, 0),  # Yellow for class 3\n",
    "    (255, 0, 255),  # Magenta for class 4\n",
    "    (0, 255, 255),  # Cyan for class 5\n",
    "    (128, 128, 128),  # Gray for class 6\n",
    "    (255, 128, 0),  # Orange for class 7\n",
    "    (128, 0, 255),  # Purple for class 8\n",
    "    (0, 128, 255),  # Sky blue for class 9\n",
    "]\n",
    "\n",
    "swapped_class_colors = [\n",
    "    (0, 255, 0),  # Green for class 0\n",
    "    (255, 0, 0),  # Red for class 1\n",
    "\n",
    "    (255, 255, 0),  # Yellow for class 2\n",
    "    (0, 0, 255),  # Blue for class 3\n",
    "\n",
    "    (0, 255, 255),  # Cyan for class 4\n",
    "    (255, 0, 255),  # Magenta for class 5\n",
    "\n",
    "    (255, 128, 0),  # Orange for class 6\n",
    "    (128, 128, 128),  # Gray for class 7\n",
    "\n",
    "    (0, 128, 255),  # Sky blue for class 8\n",
    "    (128, 0, 255),  # Purple for class 9\n",
    "\n",
    "]\n",
    "\n",
    "fashion_mnist_classes = [\n",
    "    \"T-shirt/top\", \"Trouser\", \"Pullover\", \"Dress\", \"Coat\",\n",
    "    \"Sandal\", \"Shirt\", \"Sneaker\", \"Bag\", \"Ankle boot\"\n",
    "]"
   ]
  },
  {
   "cell_type": "code",
   "execution_count": 9,
   "metadata": {},
   "outputs": [],
   "source": [
    "\n",
    "from torch.utils.data import Dataset\n",
    "\n",
    "\n",
    "class ColoredFashionMNIST(Dataset):\n",
    "    def __init__(self, dataset, class_colors, transform=None):\n",
    "        \"\"\"\n",
    "        Custom dataset for FashionMNIST with class-based coloring.\n",
    "\n",
    "        Args:\n",
    "        - dataset: Torchvision dataset (e.g., FashionMNIST).\n",
    "        - class_colors: List of RGB tuples for each class.\n",
    "        - transform: Torchvision transforms to apply to the images.\n",
    "        \"\"\"\n",
    "        self.dataset = dataset\n",
    "        self.class_colors = class_colors\n",
    "        self.transform = transform\n",
    "\n",
    "    def __len__(self):\n",
    "        return len(self.dataset)\n",
    "\n",
    "    def __getitem__(self, idx):\n",
    "        # Get the grayscale image and label\n",
    "        image, label = self.dataset[idx]\n",
    "\n",
    "        # Apply the transformation (if provided)\n",
    "        if self.transform:\n",
    "            image = self.transform(image)\n",
    "\n",
    "        # Convert grayscale to colored\n",
    "        colored_image = self.grayscale_to_colored(image, label)\n",
    "\n",
    "        return colored_image, label\n",
    "\n",
    "    def grayscale_to_colored(self, image, label):\n",
    "        \"\"\"\n",
    "        Converts a transformed 3-channel normalized tensor to class-colored RGB tensor.\n",
    "\n",
    "        Args:\n",
    "        - image: Tensor of shape (3, H, W) with values normalized to (-1, 1).\n",
    "        - label: Class label to determine color.\n",
    "\n",
    "        Returns:\n",
    "        - colored_image: Tensor of shape (3, H, W) with class-specific coloring.\n",
    "        \"\"\"\n",
    "        # De-normalize to range [0, 1]\n",
    "        image = (image * 0.5) + 0.5\n",
    "\n",
    "        # Get the RGB color for the class\n",
    "        color = torch.tensor(\n",
    "            self.class_colors[label], dtype=torch.float32) / 255.0\n",
    "\n",
    "        # Scale the image by the class color\n",
    "        colored_image = image * color.view(3, 1, 1)\n",
    "\n",
    "        return colored_image"
   ]
  },
  {
   "cell_type": "code",
   "execution_count": 10,
   "metadata": {},
   "outputs": [
    {
     "name": "stdout",
     "output_type": "stream",
     "text": [
      "Sample image shape: torch.Size([3, 28, 28]), Label: 9\n"
     ]
    }
   ],
   "source": [
    "\n",
    "\n",
    "train_fashion_mnist = datasets.FashionMNIST(\n",
    "    root=directory,\n",
    "    train=True,\n",
    "    download=True,\n",
    "    transform=None\n",
    ")\n",
    "test_fashion_mnist = datasets.FashionMNIST(\n",
    "    root=directory,\n",
    "    train=False,\n",
    "    download=True,\n",
    "    transform=None\n",
    ")\n",
    "\n",
    "\n",
    "train_colored_dataset = ColoredFashionMNIST(\n",
    "    train_fashion_mnist, class_colors, transform=grey_transform)\n",
    "test_colored_dataset = ColoredFashionMNIST(\n",
    "    test_fashion_mnist, class_colors, transform=grey_transform)\n",
    "test_swapped_colored_dataset = ColoredFashionMNIST(\n",
    "    test_fashion_mnist, swapped_class_colors, transform=grey_transform\n",
    ")\n",
    "\n",
    "sample_image, sample_label = train_colored_dataset[0]\n",
    "print(f\"Sample image shape: {sample_image.shape}, Label: {sample_label}\")"
   ]
  },
  {
   "cell_type": "code",
   "execution_count": 11,
   "metadata": {},
   "outputs": [],
   "source": [
    "\n",
    "colored_train_loader = DataLoader(\n",
    "    train_colored_dataset, batch_size=train_batch_size, shuffle=True)\n",
    "colored_test_loader = DataLoader(\n",
    "    test_colored_dataset, batch_size=test_batch_size, shuffle=False)\n",
    "swapped_colors_test_loader = DataLoader(\n",
    "    test_swapped_colored_dataset, batch_size=test_batch_size, shuffle=False\n",
    ")"
   ]
  },
  {
   "cell_type": "markdown",
   "metadata": {},
   "source": [
    "visualize"
   ]
  },
  {
   "cell_type": "code",
   "execution_count": 12,
   "metadata": {},
   "outputs": [],
   "source": [
    "def show_images_from_loader(loader, classes=fashion_mnist_classes, n_images=64):\n",
    "\n",
    "    # Get a batch of images and labels\n",
    "    images, labels = next(iter(loader))\n",
    "\n",
    "    # Select n_images from the batch\n",
    "    # print(labels)\n",
    "    images, labels = images[:n_images], labels[:n_images]\n",
    "\n",
    "    # Create a grid of images\n",
    "    grid = utils.make_grid(images, nrow=int(\n",
    "        n_images**0.5), padding=2, normalize=True)\n",
    "\n",
    "    plt.figure(figsize=(8, 8))\n",
    "    # Convert from (C, H, W) to (H, W, C) for plotting\n",
    "    plt.imshow(grid.permute(1, 2, 0))\n",
    "    plt.axis('off')\n",
    "    plt.title(\"Sample Images from Dataset\")\n",
    "\n",
    "    for i, label in enumerate(labels):\n",
    "        row, col = divmod(i, int(n_images**0.5))\n",
    "        plt.text(col * (grid.size(2) / n_images**0.5) + 5,\n",
    "                 row * (grid.size(1) / n_images**0.5) + 5,\n",
    "                 classes[label.item()],\n",
    "                 color='white', fontsize=9, ha='center', bbox=dict(facecolor='black', alpha=0.6))\n",
    "    plt.show()"
   ]
  },
  {
   "cell_type": "code",
   "execution_count": 13,
   "metadata": {},
   "outputs": [
    {
     "name": "stdout",
     "output_type": "stream",
     "text": [
      "torch.Size([3, 28, 28]) <class 'torch.Tensor'>\n"
     ]
    }
   ],
   "source": [
    "images, labels = next(iter(colored_train_loader))\n",
    "# pick the first image\n",
    "image = images[0]\n",
    "print(image.shape, type(image))"
   ]
  },
  {
   "cell_type": "code",
   "execution_count": 14,
   "metadata": {},
   "outputs": [
    {
     "data": {
      "text/plain": [
       "(tensor(1.), tensor(0.), tensor(0.1355), tensor(0.2472))"
      ]
     },
     "execution_count": 14,
     "metadata": {},
     "output_type": "execute_result"
    }
   ],
   "source": [
    "image.max(), image.min(), image.mean(), image.std()"
   ]
  },
  {
   "cell_type": "code",
   "execution_count": null,
   "metadata": {},
   "outputs": [
    {
     "data": {
      "image/png": "[encoded data removed]",
      "text/plain": [
       "<Figure size 640x480 with 1 Axes>"
      ]
     },
     "metadata": {},
     "output_type": "display_data"
    }
   ],
   "source": [
    "\n",
    "\n",
    "def plt_image(image):\n",
    "    plt_image = image.permute(1, 2, 0).numpy()\n",
    "    plt.imshow(plt_image)\n",
    "    plt.axis('off')\n",
    "    plt.show()\n",
    "\n",
    "\n",
    "plt_image(image)"
   ]
  },
  {
   "cell_type": "code",
   "execution_count": null,
   "metadata": {},
   "outputs": [
    {
     "data": {
      "image/png": "[encoded data removed]",
      "text/plain": [
       "<Figure size 640x480 with 1 Axes>"
      ]
     },
     "metadata": {},
     "output_type": "display_data"
    },
    {
     "name": "stderr",
     "output_type": "stream",
     "text": [
      "Clipping input data to the valid range for imshow with RGB data ([0..1] for floats or [0..255] for integers). Got range [0.0..1.5].\n"
     ]
    },
    {
     "data": {
      "image/png": "[encoded data removed]",
      "text/plain": [
       "<Figure size 640x480 with 1 Axes>"
      ]
     },
     "metadata": {},
     "output_type": "display_data"
    },
    {
     "data": {
      "image/png": "[encoded data removed]",
      "text/plain": [
       "<Figure size 640x480 with 1 Axes>"
      ]
     },
     "metadata": {},
     "output_type": "display_data"
    }
   ],
   "source": [
    "og_image = images[0].clone()\n",
    "\n",
    "\n",
    "def rgb_normalize(img):\n",
    "    h, w = img.shape[1], img.shape[2]\n",
    "    for i in range(h):\n",
    "        for j in range(w):\n",
    "            R = img[0][i][j]\n",
    "            G = img[1][i][j]\n",
    "            B = img[2][i][j]\n",
    "            # value = (R + G + B) / 3\n",
    "            value = R + G + B\n",
    "            img[0][i][j] = R/value\n",
    "            img[1][i][j] = G/value\n",
    "            img[2][i][j] = B/value\n",
    "    return img\n",
    "\n",
    "\n",
    "rgb_normalized_image = rgb_normalize(image)\n",
    "plt_image(rgb_normalized_image)\n",
    "plt_image(og_image + rgb_normalized_image)\n",
    "plt_image(og_image)"
   ]
  },
  {
   "cell_type": "code",
   "execution_count": null,
   "metadata": {},
   "outputs": [],
   "source": []
  }
 ],
 "metadata": {
  "kernelspec": {
   "display_name": "Python 3",
   "language": "python",
   "name": "python3"
  },
  "language_info": {
   "codemirror_mode": {
    "name": "ipython",
    "version": 3
   },
   "file_extension": ".py",
   "mimetype": "text/x-python",
   "name": "python",
   "nbconvert_exporter": "python",
   "pygments_lexer": "ipython3",
   "version": "3.11.9"
  }
 },
 "nbformat": 4,
 "nbformat_minor": 2
}
